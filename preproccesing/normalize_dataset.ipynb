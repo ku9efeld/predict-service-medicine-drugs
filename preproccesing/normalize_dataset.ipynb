{
 "cells": [
  {
   "cell_type": "markdown",
   "id": "c4242aa6",
   "metadata": {},
   "source": [
    "# Нормализация данных"
   ]
  },
  {
   "cell_type": "code",
   "execution_count": 1,
   "id": "a96d8480",
   "metadata": {},
   "outputs": [],
   "source": [
    "import pandas as pd\n",
    "\n",
    "df = pd.read_csv(r'../data/pharmacy_dataset.csv')\n"
   ]
  },
  {
   "cell_type": "code",
   "execution_count": 2,
   "id": "171ee686",
   "metadata": {},
   "outputs": [],
   "source": [
    "\n",
    "\n",
    "\n",
    "\n",
    "# Функция для создания последовательных ID\n",
    "def create_id_column(data, column_name='id'):\n",
    "    return data.assign(**{column_name: range(1, len(data)+1)})\n",
    "\n",
    "# Создание нормализованных таблиц с последовательными ID\n",
    "dosage_forms = (df[['Лек. форма']]\n",
    "                .drop_duplicates()\n",
    "                .pipe(create_id_column, 'dosage_form_id')\n",
    "                .rename(columns={'Лек. форма': 'form_name'}))\n",
    "\n",
    "countries = (df[['Страна производителя']]\n",
    "             .drop_duplicates()\n",
    "             .pipe(create_id_column, 'country_id')\n",
    "             .rename(columns={'Страна производителя': 'country_name'}))\n",
    "\n",
    "countries.country_name = countries.country_name.apply(lambda x: x.upper())\n",
    "\n",
    "active_substances = (df[['МНН / Действ. вещества']]\n",
    "                    .drop_duplicates()\n",
    "                    .pipe(create_id_column, 'mnn_id')\n",
    "                    .rename(columns={'МНН / Действ. вещества': 'mnn_name'}))\n",
    "\n",
    "pharmaco_groups = (df[['Фармако-терапевтическая группа']]\n",
    "                   .drop_duplicates()\n",
    "                   .pipe(create_id_column, 'group_id')\n",
    "                   .rename(columns={'Фармако-терапевтическая группа': 'group_name'}))\n",
    "\n",
    "# Создание таблицы products с последовательными ID\n",
    "products = (df[['Торговое наименование', 'МНН / Действ. вещества', \n",
    "               'Лек. форма', 'Страна производителя', \n",
    "               'Фармако-терапевтическая группа', 'ЖНВЛП', \n",
    "               'ПККН', 'Характер', 'flag']]\n",
    "            .drop_duplicates()\n",
    "            .pipe(create_id_column, 'product_id')\n",
    "            .rename(columns={\n",
    "                'Торговое наименование': 'trade_name',\n",
    "                'ЖНВЛП': 'is_essential',\n",
    "                'ПККН': 'is_pkkn',\n",
    "                'Характер': 'characteristic'\n",
    "            }))\n",
    "\n",
    "# Добавление внешних ключей с merge\n",
    "products = (products\n",
    "            .merge(active_substances, \n",
    "                  left_on='МНН / Действ. вещества', \n",
    "                  right_on='mnn_name')\n",
    "            .merge(dosage_forms,\n",
    "                  left_on='Лек. форма',\n",
    "                  right_on='form_name')\n",
    "            .merge(countries,\n",
    "                  left_on='Страна производителя',\n",
    "                  right_on='country_name')\n",
    "            .merge(pharmaco_groups,\n",
    "                  left_on='Фармако-терапевтическая группа',\n",
    "                  right_on='group_name')\n",
    "            [['product_id', 'trade_name', 'mnn_id', 'dosage_form_id',\n",
    "              'country_id', 'group_id', 'is_essential', 'is_pkkn',\n",
    "              'characteristic', 'flag']])\n",
    "\n",
    "products = products.drop('flag',axis=1)\n",
    "\n",
    "# Создание таблицы фактов с последовательными ID\n",
    "sales_facts = (df[['Месяц', 'Торговое наименование', 'Кол-во']]\n",
    "               .merge(products[['product_id', 'trade_name']],\n",
    "                     left_on='Торговое наименование',\n",
    "                     right_on='trade_name')\n",
    "               .rename(columns={\n",
    "                   'Месяц': 'month',\n",
    "                   'Кол-во': 'quantity'\n",
    "               })[[ 'month', 'product_id', 'quantity']])\n"
   ]
  },
  {
   "cell_type": "code",
   "execution_count": 3,
   "id": "472ac038",
   "metadata": {},
   "outputs": [
    {
     "data": {
      "text/html": [
       "<div>\n",
       "<style scoped>\n",
       "    .dataframe tbody tr th:only-of-type {\n",
       "        vertical-align: middle;\n",
       "    }\n",
       "\n",
       "    .dataframe tbody tr th {\n",
       "        vertical-align: top;\n",
       "    }\n",
       "\n",
       "    .dataframe thead th {\n",
       "        text-align: right;\n",
       "    }\n",
       "</style>\n",
       "<table border=\"1\" class=\"dataframe\">\n",
       "  <thead>\n",
       "    <tr style=\"text-align: right;\">\n",
       "      <th></th>\n",
       "      <th>form_name</th>\n",
       "      <th>dosage_form_id</th>\n",
       "    </tr>\n",
       "  </thead>\n",
       "  <tbody>\n",
       "    <tr>\n",
       "      <th>0</th>\n",
       "      <td>раствор</td>\n",
       "      <td>1</td>\n",
       "    </tr>\n",
       "    <tr>\n",
       "      <th>17</th>\n",
       "      <td>таблетки</td>\n",
       "      <td>2</td>\n",
       "    </tr>\n",
       "    <tr>\n",
       "      <th>29</th>\n",
       "      <td>мазь для наружного применения</td>\n",
       "      <td>3</td>\n",
       "    </tr>\n",
       "    <tr>\n",
       "      <th>80</th>\n",
       "      <td>капсулы пролонгированного действия</td>\n",
       "      <td>4</td>\n",
       "    </tr>\n",
       "    <tr>\n",
       "      <th>84</th>\n",
       "      <td>крем для наружного применения</td>\n",
       "      <td>5</td>\n",
       "    </tr>\n",
       "    <tr>\n",
       "      <th>...</th>\n",
       "      <td>...</td>\n",
       "      <td>...</td>\n",
       "    </tr>\n",
       "    <tr>\n",
       "      <th>8834</th>\n",
       "      <td>капли глазные, [без консерванта]</td>\n",
       "      <td>58</td>\n",
       "    </tr>\n",
       "    <tr>\n",
       "      <th>9244</th>\n",
       "      <td>спрей назальный дозированный</td>\n",
       "      <td>59</td>\n",
       "    </tr>\n",
       "    <tr>\n",
       "      <th>9598</th>\n",
       "      <td>спрей для местного и наружного применения</td>\n",
       "      <td>60</td>\n",
       "    </tr>\n",
       "    <tr>\n",
       "      <th>9600</th>\n",
       "      <td>спрей для наружного применения [спиртовой]</td>\n",
       "      <td>61</td>\n",
       "    </tr>\n",
       "    <tr>\n",
       "      <th>10202</th>\n",
       "      <td>крем для местного и наружного применения</td>\n",
       "      <td>62</td>\n",
       "    </tr>\n",
       "  </tbody>\n",
       "</table>\n",
       "<p>62 rows × 2 columns</p>\n",
       "</div>"
      ],
      "text/plain": [
       "                                        form_name  dosage_form_id\n",
       "0                                         раствор               1\n",
       "17                                       таблетки               2\n",
       "29                  мазь для наружного применения               3\n",
       "80             капсулы пролонгированного действия               4\n",
       "84                  крем для наружного применения               5\n",
       "...                                           ...             ...\n",
       "8834             капли глазные, [без консерванта]              58\n",
       "9244                 спрей назальный дозированный              59\n",
       "9598    спрей для местного и наружного применения              60\n",
       "9600   спрей для наружного применения [спиртовой]              61\n",
       "10202    крем для местного и наружного применения              62\n",
       "\n",
       "[62 rows x 2 columns]"
      ]
     },
     "execution_count": 3,
     "metadata": {},
     "output_type": "execute_result"
    }
   ],
   "source": [
    "dosage_forms"
   ]
  },
  {
   "cell_type": "markdown",
   "id": "1b09da42",
   "metadata": {},
   "source": [
    "# SQL - Scripts \n",
    "## 1. Создание БД "
   ]
  },
  {
   "cell_type": "code",
   "execution_count": null,
   "id": "92d08a34",
   "metadata": {},
   "outputs": [],
   "source": [
    "# with open('../sql-scripts/pharma_db_schema.sql', 'w') as f:\n",
    "#     # Записываем SQL схему из предыдущего блока\n",
    "#     f.write(\"\"\"\n",
    "# -- Создание таблицы active_substances (Активные вещества)\n",
    "# CREATE TABLE active_substances (\n",
    "#     mnn_id SERIAL PRIMARY KEY,\n",
    "#     mnn_name VARCHAR(255) NOT NULL\n",
    "# );\n",
    "\n",
    "# -- Создание таблицы dosage_forms (Лекарственные формы)\n",
    "# CREATE TABLE dosage_forms (\n",
    "#     dosage_form_id SERIAL PRIMARY KEY,\n",
    "#     form_name VARCHAR(100) NOT NULL\n",
    "# );\n",
    "\n",
    "# -- Создание таблицы countries (Страны производителей)\n",
    "# CREATE TABLE countries (\n",
    "#     country_id SERIAL PRIMARY KEY,\n",
    "#     country_name VARCHAR(100) NOT NULL\n",
    "# );\n",
    "\n",
    "# -- Создание таблицы pharmaco_groups (Фармако-терапевтические группы)\n",
    "# CREATE TABLE pharmaco_groups (\n",
    "#     group_id SERIAL PRIMARY KEY,\n",
    "#     group_name VARCHAR(255) NOT NULL\n",
    "# );\n",
    "\n",
    "# -- Создание таблицы products (Препараты)\n",
    "# CREATE TABLE products (\n",
    "#     product_id SERIAL PRIMARY KEY,\n",
    "#     trade_name VARCHAR(255) NOT NULL,\n",
    "#     mnn_id INT NOT NULL REFERENCES active_substances(mnn_id),\n",
    "#     dosage_form_id INT NOT NULL REFERENCES dosage_forms(dosage_form_id),\n",
    "#     country_id INT NOT NULL REFERENCES countries(country_id),\n",
    "#     group_id INT NOT NULL REFERENCES pharmaco_groups(group_id),\n",
    "#     is_essential BOOLEAN,  -- ЖНВЛП\n",
    "#     is_pkkn BOOLEAN,       -- ПККН\n",
    "#     characteristic VARCHAR(100)  -- Характер\n",
    "# );\n",
    "\n",
    "# -- Создание таблицы sales_facts (Факты продаж/поставок)\n",
    "# CREATE TABLE sales_facts (\n",
    "#     month DATE NOT NULL,\n",
    "#     product_id INT NOT NULL REFERENCES products(product_id),\n",
    "#     quantity INT NOT NULL,\n",
    "#     PRIMARY KEY (month, product_id)\n",
    "# );\n",
    "\n",
    "# -- Создание индексов для ускорения запросов\n",
    "# CREATE INDEX idx_sales_facts_product ON sales_facts(product_id);\n",
    "# CREATE INDEX idx_sales_facts_month ON sales_facts(month);\n",
    "# CREATE INDEX idx_products_mnn ON products(mnn_id);\n",
    "# CREATE INDEX idx_products_dosage_form ON products(dosage_form_id);\n",
    "# CREATE INDEX idx_products_country ON products(country_id);\n",
    "# CREATE INDEX idx_products_pharmaco_group ON products(pharmaco_group_id);\n",
    "# \"\"\")"
   ]
  },
  {
   "cell_type": "markdown",
   "id": "a62a5474",
   "metadata": {},
   "source": [
    "## 2. Создание INSERT скрипта"
   ]
  },
  {
   "cell_type": "code",
   "execution_count": null,
   "id": "91772dfa",
   "metadata": {},
   "outputs": [
    {
     "name": "stdout",
     "output_type": "stream",
     "text": [
      "mnn_name, mnn_id\n",
      "form_name, dosage_form_id\n",
      "country_name, country_id\n",
      "group_name, group_id\n",
      "product_id, trade_name, mnn_id, dosage_form_id, country_id, group_id, is_essential, is_pkkn, characteristic\n"
     ]
    }
   ],
   "source": [
    "# with open('../sql-scripts/pharma_db_schema_inserts.sql', 'w') as f:   \n",
    "#     def generate_inserts(table_name, df):\n",
    "#         inserts = []\n",
    "#         cols = ', '.join(df.columns)\n",
    "#         print(cols)\n",
    "#         for _, row in df.iterrows():\n",
    "#             values = []\n",
    "#             for val in row:\n",
    "#                 if pd.isna(val):\n",
    "#                     values.append('NULL')\n",
    "#                 elif isinstance(val, str):\n",
    "#                     escaped_val = val.replace(\"'\", \"''\")\n",
    "#                     escaped_val = escaped_val.replace(';',' +')\n",
    "#                     values.append(f\"'{escaped_val}'\")\n",
    "#                 else:\n",
    "#                     values.append(str(val))\n",
    "#             inserts.append(f\"INSERT INTO {table_name} ({', '.join(df.columns)}) VALUES ({', '.join(values)});\")\n",
    "#         return inserts\n",
    "\n",
    "# # Использование\n",
    "\n",
    "#     f.write('\\n'.join(generate_inserts('active_substances', active_substances)))\n",
    "#     f.write('\\n'.join(generate_inserts('dosage_forms', dosage_forms)))\n",
    "#     f.write('\\n'.join(generate_inserts('countries', countries)))\n",
    "#     f.write('\\n'.join(generate_inserts('pharmaco_groups', pharmaco_groups)))\n",
    "#     f.write('\\n'.join(generate_inserts('products', products)))\n",
    "\n",
    "#     # Для sales_facts обрабатываем даты специальным образом\n",
    "#     f.write('\\n')\n",
    "    \n",
    "#     sales_facts = sales_facts.drop_duplicates(['month','product_id'])\n",
    "    \n",
    "#     for _, row in sales_facts.iterrows():\n",
    "#         month = f\"'{row['month']}'\"\n",
    "#         f.write(f\"INSERT INTO sales_facts (month, product_id, quantity) VALUES ({month}, {row['product_id']}, {row['quantity']});\\n\")"
   ]
  },
  {
   "cell_type": "code",
   "execution_count": 6,
   "id": "70762551",
   "metadata": {},
   "outputs": [
    {
     "data": {
      "text/plain": [
       "442"
      ]
     },
     "execution_count": 6,
     "metadata": {},
     "output_type": "execute_result"
    }
   ],
   "source": [
    "active_substances.mnn_id.nunique()"
   ]
  },
  {
   "cell_type": "markdown",
   "id": "4301d8e3",
   "metadata": {},
   "source": [
    "# Исполнение SQL - скриптов"
   ]
  },
  {
   "cell_type": "code",
   "execution_count": 9,
   "id": "81d598dd",
   "metadata": {},
   "outputs": [],
   "source": [
    "from sqlalchemy import create_engine, text\n",
    "\n",
    "# Создаем in-memory SQLite через SQLAlchemy\n",
    "engine = create_engine('sqlite:///:memory:')\n",
    "\n",
    "with engine.connect() as conn:\n",
    "\n",
    "    with open('../sql-scripts/pharma_db_schema.sql') as f:\n",
    "        for statement in f.read().split(';'):\n",
    "            if statement.strip():\n",
    "                conn.execute(text(statement))\n",
    "    \n",
    "    \n",
    "    conn.commit()"
   ]
  },
  {
   "cell_type": "code",
   "execution_count": 10,
   "id": "a154c14c",
   "metadata": {},
   "outputs": [],
   "source": [
    "with engine.connect() as conn:\n",
    "\n",
    "    with open('../sql-scripts/pharma_db_schema_inserts.sql') as f:\n",
    "        for statement in f.read().split(';'):\n",
    "            if statement.strip():\n",
    "                conn.execute(text(statement))\n",
    "    \n",
    "    conn.commit()"
   ]
  },
  {
   "cell_type": "code",
   "execution_count": 17,
   "id": "30196b6c",
   "metadata": {},
   "outputs": [
    {
     "name": "stdout",
     "output_type": "stream",
     "text": [
      "13563 1431\n"
     ]
    }
   ],
   "source": [
    "with engine.connect() as conn:\n",
    "    sales_facts_db = pd.read_sql('SELECT * FROM sales_facts',conn)\n",
    "    products_db = pd.read_sql('SELECT * FROM products',conn)\n",
    "\n",
    "\n",
    "    print(sales_facts_db.shape[0], products_db.shape[0])"
   ]
  }
 ],
 "metadata": {
  "kernelspec": {
   "display_name": "Python 3",
   "language": "python",
   "name": "python3"
  },
  "language_info": {
   "codemirror_mode": {
    "name": "ipython",
    "version": 3
   },
   "file_extension": ".py",
   "mimetype": "text/x-python",
   "name": "python",
   "nbconvert_exporter": "python",
   "pygments_lexer": "ipython3",
   "version": "3.9.6"
  }
 },
 "nbformat": 4,
 "nbformat_minor": 5
}
